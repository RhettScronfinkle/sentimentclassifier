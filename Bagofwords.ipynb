{
 "cells": [
  {
   "cell_type": "code",
   "execution_count": null,
   "metadata": {
    "collapsed": true
   },
   "outputs": [],
   "source": [
    "#!/usr/bin/env python\n",
    "from gensim.parsing.preprocessing import remove_stopwords\n",
    "from gensim.parsing.preprocessing import preprocess_string\n",
    "    "
   ]
  },
  {
   "cell_type": "code",
   "execution_count": null,
   "metadata": {
    "collapsed": true
   },
   "outputs": [],
   "source": [
    "dataset = [['you are pathetic',0],['i am impressed',1],['that was mesmerizing',1],['i was blown away',1],['that was the most pathetic performance I\\'ve ever witnessed',0],['that was gross',0]]\n"
   ]
  },
  {
   "cell_type": "code",
   "execution_count": null,
   "metadata": {
    "collapsed": true
   },
   "outputs": [],
   "source": [
    "bagofwords = []\n",
    "listofwords = []\n",
    "stringwithoutstopwords = []\n",
    "\n",
    "\n",
    "for i in dataset:\n",
    "        removestop = remove_stopwords(i[0].lower())\n",
    "        \n",
    "        preprocessed_string = preprocess_string(removestop)\n",
    "        stringwithoutstopwords.append(' '.join(preprocessed_string)+str(i[1]))\n",
    "        listofwords.extend(preprocessed_string)\n",
    "        "
   ]
  },
  {
   "cell_type": "code",
   "execution_count": null,
   "metadata": {},
   "outputs": [],
   "source": [
    "#removing duplicates in listofwords\n",
    "setofwords = []\n",
    "for i in range(len(listofwords)):\n",
    "    f=0\n",
    "    for j in range(i+1,len(listofwords)):\n",
    "        if listofwords[i]!=listofwords[j]:\n",
    "            continue\n",
    "        elif listofwords[i]==listofwords[j]:\n",
    "            f=1\n",
    "            break\n",
    "    if f==0:\n",
    "        setofwords.append(listofwords[i])\n",
    "\n",
    "            \n",
    "\n",
    "\n",
    "\n",
    "print (listofwords)\n",
    "print (setofwords)\n",
    "print (stringwithoutstopwords)"
   ]
  },
  {
   "cell_type": "code",
   "execution_count": null,
   "metadata": {
    "collapsed": true
   },
   "outputs": [],
   "source": [
    "def yieldbagofwords(string, wordlist):\n",
    "    di = {}\n",
    "    for i in wordlist:\n",
    "        di[i]=0\n",
    "        \n",
    "    for i in wordlist:\n",
    "        if i in string:\n",
    "                di[i]+=1\n",
    "                di['sentiment']=string[-1]\n",
    "                \n",
    "    return di\n",
    "\n"
   ]
  },
  {
   "cell_type": "code",
   "execution_count": null,
   "metadata": {
    "collapsed": true
   },
   "outputs": [],
   "source": [
    "bagofwords = []\n",
    "for i in stringwithoutstopwords:\n",
    "    di = yieldbagofwords(i,setofwords)\n",
    "    bagofwords.append(di)\n",
    "    "
   ]
  },
  {
   "cell_type": "code",
   "execution_count": null,
   "metadata": {},
   "outputs": [],
   "source": [
    "print (bagofwords)"
   ]
  },
  {
   "cell_type": "markdown",
   "metadata": {},
   "source": [
    "Naive Bayes"
   ]
  },
  {
   "cell_type": "code",
   "execution_count": null,
   "metadata": {
    "collapsed": true
   },
   "outputs": [],
   "source": [
    "teststring = 'that was a pathetic performance'"
   ]
  },
  {
   "cell_type": "code",
   "execution_count": null,
   "metadata": {},
   "outputs": [],
   "source": [
    "preprocessed_teststring = preprocess_string(remove_stopwords(teststring.lower()))\n",
    "\n",
    "print (preprocessed_teststring)"
   ]
  },
  {
   "cell_type": "code",
   "execution_count": null,
   "metadata": {},
   "outputs": [],
   "source": [
    "testbag = yieldbagofwords(' '.join(preprocessed_teststring),setofwords)\n",
    "testbag['sentiment']=0\n",
    "print(testbag)"
   ]
  },
  {
   "cell_type": "code",
   "execution_count": null,
   "metadata": {},
   "outputs": [],
   "source": [
    "for i in bagofwords:\n",
    "    i['score']=0\n",
    "\n",
    "    \n",
    "    \n",
    "for i in bagofwords:\n",
    "    for j in testbag.keys():\n",
    "        if testbag[j]>0 and i[j]>0:\n",
    "            i['score']+=i[j]\n",
    "\n",
    "            \n",
    "print (bagofwords)"
   ]
  },
  {
   "cell_type": "code",
   "execution_count": null,
   "metadata": {},
   "outputs": [],
   "source": [
    "sortedbagofwords = sorted(bagofwords, key = lambda x:x['score'], reverse = True)"
   ]
  },
  {
   "cell_type": "code",
   "execution_count": null,
   "metadata": {},
   "outputs": [],
   "source": [
    "print (sortedbagofwords)"
   ]
  },
  {
   "cell_type": "code",
   "execution_count": null,
   "metadata": {},
   "outputs": [],
   "source": [
    "sentimentdict = {'0':'negative','1':'positive'}\n",
    "print (sentimentdict[sortedbagofwords[0]['sentiment']])"
   ]
  }
 ],
 "metadata": {
  "kernelspec": {
   "display_name": "Python 3",
   "language": "python",
   "name": "python3"
  },
  "language_info": {
   "codemirror_mode": {
    "name": "ipython",
    "version": 3
   },
   "file_extension": ".py",
   "mimetype": "text/x-python",
   "name": "python",
   "nbconvert_exporter": "python",
   "pygments_lexer": "ipython3",
   "version": "3.6.2"
  }
 },
 "nbformat": 4,
 "nbformat_minor": 2
}
